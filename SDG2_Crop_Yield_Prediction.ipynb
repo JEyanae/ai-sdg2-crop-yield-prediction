import pandas as pd

# Load dataset
df = pd.read_csv('yield_df.csv')  # Use the name of your uploaded file
df.head()

# Drop unnecessary columns
df_clean = df.drop(columns=["Unnamed: 0", "Area", "Item"])

# Define features and target
X = df_clean.drop(columns=["hg/ha_yield"])
y = df_clean["hg/ha_yield"]

from sklearn.model_selection import train_test_split

# Split the data
X_train, X_test, y_train, y_test = train_test_split(X, y, test_size=0.2, random_state=42)

from sklearn.linear_model import LinearRegression

# Train the model
model = LinearRegression()
model.fit(X_train, y_train)

from sklearn.metrics import mean_absolute_error, r2_score

# Make predictions
y_pred = model.predict(X_test)

# Evaluate
mae = mean_absolute_error(y_test, y_pred)
r2 = r2_score(y_test, y_pred)

print(f"Mean Absolute Error: {mae}")
print(f"R² Score: {r2}")

import matplotlib.pyplot as plt

plt.figure(figsize=(8, 6))
plt.scatter(y_test, y_pred, color='green', alpha=0.5)
plt.xlabel("Actual Yield")
plt.ylabel("Predicted Yield")
plt.title("Actual vs Predicted Crop Yield")
plt.grid(True)
plt.show()
